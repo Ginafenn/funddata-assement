{
 "cells": [
  {
   "cell_type": "markdown",
   "id": "cfb02bb8",
   "metadata": {},
   "source": [
    "# Normal Distribution"
   ]
  },
  {
   "cell_type": "code",
   "execution_count": 25,
   "id": "8935f182",
   "metadata": {},
   "outputs": [
    {
     "data": {
      "text/html": [
       "<img src=\"https://www.investopedia.com/thmb/G8y4m5eS6LvyRoDwJnVLFSGpz5I=/750x0/filters:no_upscale():max_bytes(150000):strip_icc():format(webp)/Normal_Distribution-v2-f2fe66cf58ed448daf1184a14705c4a2.png\" width=\"600\" height=\"600\"/>"
      ],
      "text/plain": [
       "<IPython.core.display.Image object>"
      ]
     },
     "execution_count": 25,
     "metadata": {},
     "output_type": "execute_result"
    }
   ],
   "source": [
    "Image(url=\"https://www.investopedia.com/thmb/G8y4m5eS6LvyRoDwJnVLFSGpz5I=/750x0/filters:no_upscale():max_bytes(150000):strip_icc():format(webp)/Normal_Distribution-v2-f2fe66cf58ed448daf1184a14705c4a2.png\", width=600, height=600)"
   ]
  },
  {
   "cell_type": "markdown",
   "id": "430f818c",
   "metadata": {},
   "source": [
    "## Objectives\n",
    "\n",
    "• Create a notebook about the normal distribution.<br> \n",
    "• Define and explain the main concepts.<br> \n",
    "• Pitch the notebook at your classmates.<br> \n",
    "• Use visuals like plots to explain concepts."
   ]
  },
  {
   "cell_type": "markdown",
   "id": "39c241c0",
   "metadata": {},
   "source": [
    "## Libraries"
   ]
  },
  {
   "cell_type": "markdown",
   "id": "5bc14598",
   "metadata": {},
   "source": [
    "***"
   ]
  },
  {
   "cell_type": "code",
   "execution_count": 26,
   "id": "3a51a860",
   "metadata": {},
   "outputs": [],
   "source": [
    "# Importing numpy and renaming it. \n",
    "# It is used to perform scientific and mathematical operations.\n",
    "import numpy as np\n",
    "\n",
    "# Importing seaborn and renaming it .\n",
    "# Seaborn is a library that uses Matplotlib underneath to plot graphs. It is used to visualize random distributions.\n",
    "import seaborn as sb\n",
    "\n",
    "# Importing matplotlib and renaming it.\n",
    "# It is a library which is used for data visualisations.\n",
    "import matplotlib.pyplot as plt\n",
    "\n",
    "# Importing statistics and renaming it.\n",
    "# This is used for statistics module functions\n",
    "import statistics as sts\n",
    "\n",
    "# Importing norm from scipy.stats.\n",
    "# The scipy. stats module specializes in random variables and probability distributions.\n",
    "from scipy.stats import norm\n"
   ]
  },
  {
   "cell_type": "markdown",
   "id": "02dd32e0",
   "metadata": {},
   "source": [
    "## Introduction"
   ]
  },
  {
   "cell_type": "markdown",
   "id": "58b753e9",
   "metadata": {},
   "source": [
    "***"
   ]
  },
  {
   "cell_type": "markdown",
   "id": "898530b0",
   "metadata": {},
   "source": [
    "\n",
    "\n",
    "$$ \\frac{1}{\\sqrt{2 \\pi \\sigma^2}} e^{-\\frac{(x - \\mu)^2}{2 \\sigma^2}} $$"
   ]
  },
  {
   "cell_type": "markdown",
   "id": "999be4f3",
   "metadata": {},
   "source": [
    "Normal Distrubtion or as it's sometimes called Gaussian Distribution is a type of continuous probability distribution for a real random variable. <br> Gaussian distribution refers to the German mathematician called Carl Friedrich Gauss, who first developed a two-parameter exponential function in 1809. <br> Normal Distrubtion can be used in the natural and social sciences to represent real random variables. The term normal came from a scientific publication in the 19th century showing that many natural phemomena appeared to deviate normally from the mean.  \n",
    "<br>\n",
    "A Normal distribution is often called a bell curve. It is called A bell curve as the graph used to represent the normal distribution looks like a symmetrical bell shaped curve. <br> The top of the bell represents the most probable event in a serious of data. This is the mean, median and mode. These are all equal and these values represent the highest point of the distribution and represents the perfect normal distribution.<br>\n",
    "<br>\n",
    "The Normal Distribution has two main parameters, the mean and standard Deviation.  Variability around the mean is measured by standard Deviation \n",
    "\n"
   ]
  },
  {
   "cell_type": "markdown",
   "id": "c25eae09",
   "metadata": {},
   "source": [
    "## Properties"
   ]
  },
  {
   "cell_type": "markdown",
   "id": "00df6600",
   "metadata": {},
   "source": [
    "The Normal distribution has multiple features and properties that defines it."
   ]
  },
  {
   "cell_type": "markdown",
   "id": "b6bb1fae",
   "metadata": {},
   "source": [
    "•  Mean - Is where the center of the normal distribution is. It is symmetrical on both sides of the mean,so the right side of the center is a mirror image of the left side so half the population is less than the mean and half is greater than the mean. It is the sum of total points divided by the total number of points. It is represented by the symbol $$\\mu $$\n",
    "<br> \n",
    "•  Median - This is the middle (Midpoint) of the data set of numbers.<br> \n",
    "<br> \n",
    "•  Mode - This is the most common number in the data set.<br>\n",
    "<br> \n",
    "•  Standard Deviation - Describes how spread out the normal distribution is. It is a measure of how far each observed value is from the mean.It is represented by the symbol.\n",
    "\n",
    "$$ \\sigma $$ <br>\n",
    "<br> \n",
    "• The area under the normal distribution curve represents probability and the total area under the curve sums to one.<br>\n",
    "<br> \n",
    "• Most values are clustered around the mean. The further the value is from the mean, the less likely it is to occcur.<br>\n",
    "<br> \n",
    "• The Emperical rule states that approx 68% of the area of a normal distribution is within one standard deviation of the mean.<br>\n",
    "<br> \n",
    "• 95% fall within +/-1 standard deviation of the mean.<br>\n",
    "<br> \n",
    "• 99.7% falls within +/-3 standard deviation of the mean.<br> \n",
    "<br> \n",
    "• The normal distribution is symmetric and has a skewness of zero.\n",
    "<br> "
   ]
  },
  {
   "cell_type": "markdown",
   "id": "d2b20d81",
   "metadata": {},
   "source": [
    "<br>\n",
    "<br>\n",
    "The below image shows a good visual of the area that is within one standard deviation of the mean. It also shows +/-1 standard deviation of the mean and +/-3 starndard deviation of the mean.\n",
    "<br>\n",
    "<br>"
   ]
  },
  {
   "cell_type": "code",
   "execution_count": 27,
   "id": "62e57c12",
   "metadata": {},
   "outputs": [
    {
     "data": {
      "text/html": [
       "<img src=\"https://www.askpython.com/wp-content/uploads/2020/10/Standard-deviation-around-mean.jpg.webp\" width=\"800\" height=\"800\"/>"
      ],
      "text/plain": [
       "<IPython.core.display.Image object>"
      ]
     },
     "execution_count": 27,
     "metadata": {},
     "output_type": "execute_result"
    }
   ],
   "source": [
    "Image(url=\"https://www.askpython.com/wp-content/uploads/2020/10/Standard-deviation-around-mean.jpg.webp\", width=800, height=800)"
   ]
  },
  {
   "cell_type": "markdown",
   "id": "df5bf2f2",
   "metadata": {},
   "source": [
    "#### Examples of some of the properties"
   ]
  },
  {
   "cell_type": "markdown",
   "id": "8f452790",
   "metadata": {},
   "source": [
    "Below are examples of creating a random sample and showing how the mean/median and standard are calculated."
   ]
  },
  {
   "cell_type": "code",
   "execution_count": 28,
   "id": "be57de82",
   "metadata": {},
   "outputs": [],
   "source": [
    "# Creating a generate sample of 1000 values from a normal distribution.\n",
    "x = np.random.normal(10.0, 1.0, 1000)"
   ]
  },
  {
   "cell_type": "code",
   "execution_count": 29,
   "id": "01400080",
   "metadata": {},
   "outputs": [
    {
     "data": {
      "text/plain": [
       "10.015649940059149"
      ]
     },
     "execution_count": 29,
     "metadata": {},
     "output_type": "execute_result"
    }
   ],
   "source": [
    "# Example of calculating the mean.\n",
    "x.mean()"
   ]
  },
  {
   "cell_type": "code",
   "execution_count": 30,
   "id": "afb59e0e",
   "metadata": {},
   "outputs": [
    {
     "data": {
      "text/plain": [
       "10.023850156950484"
      ]
     },
     "execution_count": 30,
     "metadata": {},
     "output_type": "execute_result"
    }
   ],
   "source": [
    "# Example of calculating the median.\n",
    "sts.median(x)"
   ]
  },
  {
   "cell_type": "code",
   "execution_count": 31,
   "id": "f4968a17",
   "metadata": {},
   "outputs": [
    {
     "data": {
      "text/plain": [
       "8.314870713248226"
      ]
     },
     "execution_count": 31,
     "metadata": {},
     "output_type": "execute_result"
    }
   ],
   "source": [
    "# Example of calculating the mode.\n",
    "sts.mode(x)"
   ]
  },
  {
   "cell_type": "markdown",
   "id": "a1644e6e",
   "metadata": {},
   "source": [
    "### Creating a Normal Distribution"
   ]
  },
  {
   "cell_type": "markdown",
   "id": "6998e67f",
   "metadata": {},
   "source": [
    "The below graph shows a normal distribution. The technique to find whether the data is normal is called a normal probability distribution plot.<br>The shape of the graph relies on the two parameters, the mean and the mode.<br>The first graph shows a plot with a mean of 0 and a standard deviation of 1.<br>The second shows a plot with a mean of 2 and a standard deviation of 0.5.<br> They both appear to be different but are still a normal distribution\n"
   ]
  },
  {
   "cell_type": "code",
   "execution_count": 32,
   "id": "a8f63eb6",
   "metadata": {},
   "outputs": [
    {
     "data": {
      "text/plain": [
       "Text(0, 0.5, 'Probability Density')"
      ]
     },
     "execution_count": 32,
     "metadata": {},
     "output_type": "execute_result"
    },
    {
     "data": {
      "image/png": "[encoded data removed]",
      "text/plain": [
       "<Figure size 432x288 with 1 Axes>"
      ]
     },
     "metadata": {},
     "output_type": "display_data"
    }
   ],
   "source": [
    "#x-axis ranges from -3 and 3 with .001 steps\n",
    "x = np.arange(-3, 3, 0.001)\n",
    "\n",
    "# Setting the grid to white\n",
    "sb.set_style('whitegrid')\n",
    "\n",
    "# Plot normal distribution with mean 0 and standard deviation 1\n",
    "plt.plot(x, norm.pdf(x, 0, 1))\n",
    "\n",
    "# Naming the x and y axes\n",
    "plt.xlabel('Values')\n",
    "plt.ylabel('Probability Density')"
   ]
  },
  {
   "cell_type": "code",
   "execution_count": 33,
   "id": "2a267821",
   "metadata": {},
   "outputs": [
    {
     "name": "stderr",
     "output_type": "stream",
     "text": [
      "C:\\Users\\g025067\\Anaconda3\\lib\\site-packages\\seaborn\\_decorators.py:36: FutureWarning: Pass the following variables as keyword args: x, y. From version 0.12, the only valid positional argument will be `data`, and passing other arguments without an explicit keyword will result in an error or misinterpretation.\n",
      "  warnings.warn(\n"
     ]
    },
    {
     "data": {
      "text/plain": [
       "Text(0, 0.5, 'Probability Density')"
      ]
     },
     "execution_count": 33,
     "metadata": {},
     "output_type": "execute_result"
    },
    {
     "data": {
      "image/png": "[encoded data removed]",
      "text/plain": [
       "<Figure size 432x288 with 1 Axes>"
      ]
     },
     "metadata": {},
     "output_type": "display_data"
    }
   ],
   "source": [
    "# Creating data in range of 1-10.\n",
    "x = np.arange(-3, 3, 0.001)\n",
    "\n",
    "# The loc represents the mean and the scale represents the standard deviation.\n",
    "pdf = norm.pdf(x , loc = 2, scale = 0.5)\n",
    " \n",
    "#Visualizing the distribution\n",
    "\n",
    "# Setting the grid to white\n",
    "sb.set_style('whitegrid')\n",
    "\n",
    "# Plotting the data with a line colour blue\n",
    "sb.lineplot(x, pdf , color = 'Blue')\n",
    "\n",
    "# Naming the x and y axes\n",
    "plt.xlabel('Values')\n",
    "plt.ylabel('Probability Density')"
   ]
  },
  {
   "cell_type": "markdown",
   "id": "05bb033a",
   "metadata": {},
   "source": [
    "## References :\n",
    "\n",
    "- https://www.maa.org/sites/default/files/pdf/upload_library/22/Allendoerfer/stahl96.pdf\n",
    "- https://en.wikipedia.org/wiki/Information\n",
    "- https://positivepsychology.com/cognitive-biases/\n",
    "- https://studiousguy.com/bias-examples-in-real-life/\n",
    "- https://www.statisticshowto.com/bessels-correction/\n",
    "- https://www.toppr.com/guides/python-guide/tutorials/modules/modules/random/use-random-module-to-generate-random-numbers-in-python/\n",
    "- https://numpy.org/\n",
    "- https://matplotlib.org/\n",
    "- https://en.wikipedia.org/wiki/Normal_distribution\n",
    "- https://www.statisticshowto.com/probability-and-statistics/statistics-definitions/mean-median-mode/\n",
    "- https://www.investopedia.com/terms/n/normaldistribution.asp\n",
    "- https://bobbyhadz.com/blog/python-remove-non-alphanumeric-charactersfromstring#:~:text=sub()%20method%20to%20remove,replacing%20them%20with%20empty%20strings\n",
    "- https://www.w3schools.com/statistics/statistics_normal_distribution.php\n",
    "- https://ecomputernotes.com/fundamental/information-technology/what-do-you-mean-by-data-and-information\n",
    "- https://www.simplypsychology.org/normal-distribution.html\n",
    "- https://www.askpython.com/python/normal-distribution\n",
    "- McLeod, S. A. (2019, May 28). Introduction to the normal distribution (bell curve). \n"
   ]
  }
 ],
 "metadata": {
  "kernelspec": {
   "display_name": "Python 3 (ipykernel)",
   "language": "python",
   "name": "python3"
  },
  "language_info": {
   "codemirror_mode": {
    "name": "ipython",
    "version": 3
   },
   "file_extension": ".py",
   "mimetype": "text/x-python",
   "name": "python",
   "nbconvert_exporter": "python",
   "pygments_lexer": "ipython3",
   "version": "3.9.7"
  }
 },
 "nbformat": 4,
 "nbformat_minor": 5
}
