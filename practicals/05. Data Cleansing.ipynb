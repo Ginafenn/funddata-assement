{
 "cells": [
  {
   "cell_type": "markdown",
   "id": "77fef812",
   "metadata": {},
   "source": [
    "# Data Cleansing\n",
    "\n",
    "***"
   ]
  },
  {
   "cell_type": "markdown",
   "id": "8adc017c",
   "metadata": {},
   "source": [
    "## Libraries:\n",
    "\n",
    "***"
   ]
  },
  {
   "cell_type": "markdown",
   "id": "670486b6",
   "metadata": {},
   "source": [
    "### Excerise 1."
   ]
  },
  {
   "cell_type": "markdown",
   "id": "82f55c12",
   "metadata": {},
   "source": [
    "Write a Python function to remove all non-alphanumeric characters from a string"
   ]
  },
  {
   "cell_type": "code",
   "execution_count": null,
   "id": "3bfd451c",
   "metadata": {},
   "outputs": [],
   "source": []
  },
  {
   "cell_type": "code",
   "execution_count": null,
   "id": "3f8fa156",
   "metadata": {},
   "outputs": [],
   "source": []
  },
  {
   "cell_type": "code",
   "execution_count": null,
   "id": "43171dab",
   "metadata": {},
   "outputs": [],
   "source": []
  },
  {
   "cell_type": "code",
   "execution_count": null,
   "id": "e18f0651",
   "metadata": {},
   "outputs": [],
   "source": []
  },
  {
   "cell_type": "markdown",
   "id": "2315b47e",
   "metadata": {},
   "source": [
    "### Excerise 2."
   ]
  },
  {
   "cell_type": "markdown",
   "id": "ffbd7484",
   "metadata": {},
   "source": [
    "Adapt the above code to capitalise the first letter of the iris species, using regular expressions"
   ]
  },
  {
   "cell_type": "code",
   "execution_count": null,
   "id": "d836256c",
   "metadata": {},
   "outputs": [],
   "source": []
  },
  {
   "cell_type": "code",
   "execution_count": null,
   "id": "d88f9af4",
   "metadata": {},
   "outputs": [],
   "source": []
  },
  {
   "cell_type": "code",
   "execution_count": null,
   "id": "4ec12a46",
   "metadata": {},
   "outputs": [],
   "source": []
  }
 ],
 "metadata": {
  "kernelspec": {
   "display_name": "Python 3 (ipykernel)",
   "language": "python",
   "name": "python3"
  },
  "language_info": {
   "codemirror_mode": {
    "name": "ipython",
    "version": 3
   },
   "file_extension": ".py",
   "mimetype": "text/x-python",
   "name": "python",
   "nbconvert_exporter": "python",
   "pygments_lexer": "ipython3",
   "version": "3.9.7"
  }
 },
 "nbformat": 4,
 "nbformat_minor": 5
}
