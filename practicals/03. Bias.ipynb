{
 "cells": [
  {
   "cell_type": "markdown",
   "id": "5d99b006",
   "metadata": {},
   "source": [
    "# Bias"
   ]
  },
  {
   "cell_type": "markdown",
   "id": "ff54eb9c",
   "metadata": {},
   "source": [
    "### Excerise 1."
   ]
  },
  {
   "cell_type": "markdown",
   "id": "d32e1522",
   "metadata": {},
   "source": [
    "Give three real-world examples of different types of cognitive bias?"
   ]
  },
  {
   "cell_type": "markdown",
   "id": "05737a24",
   "metadata": {},
   "source": [
    "1. Gender Bias - This is where we assign a specific behaviour to a particular gender.\n",
    "\n",
    "   An example of this is where women are percieved to be better care givers than men."
   ]
  },
  {
   "cell_type": "markdown",
   "id": "7dfcda9e",
   "metadata": {},
   "source": [
    "2. In-group Bias - This is where people are more likel to believe someone in their own group rather than an outsider.\n",
    " \n",
    "   An example of this is politics where if you are in a perticular part you tend to support your own party."
   ]
  },
  {
   "cell_type": "markdown",
   "id": "63f0e331",
   "metadata": {},
   "source": [
    "3. Non-Verbal Biases - This is how people walk, body language or eye contact.\n",
    "  \n",
    "   An example of this is an interview process, if a person doesn't make eye contact or has a week handshake we think that person is less skilled.\n"
   ]
  },
  {
   "cell_type": "markdown",
   "id": "56d2e218",
   "metadata": {},
   "source": [
    "### Excerise 2.\n"
   ]
  },
  {
   "cell_type": "markdown",
   "id": "5da5d48f",
   "metadata": {},
   "source": [
    "Show that the difference between the standard deviation calculations is greatest for small sample sizes"
   ]
  },
  {
   "cell_type": "code",
   "execution_count": null,
   "id": "b9f2b8bc",
   "metadata": {},
   "outputs": [],
   "source": []
  },
  {
   "cell_type": "markdown",
   "id": "6ae14694",
   "metadata": {},
   "source": [
    "### Extra Excerise"
   ]
  },
  {
   "cell_type": "raw",
   "id": "de1b09aa",
   "metadata": {},
   "source": [
    "# Numerical arrays.\n",
    "import numpy as np\n",
    "\n",
    "# Plots.\n",
    "import matplotlib.pyplot as plt"
   ]
  },
  {
   "cell_type": "code",
   "execution_count": 4,
   "id": "245198dc",
   "metadata": {},
   "outputs": [
    {
     "data": {
      "text/plain": [
       "2.8"
      ]
     },
     "execution_count": 4,
     "metadata": {},
     "output_type": "execute_result"
    }
   ],
   "source": [
    "# A list of numbers - four small and one big.\n",
    "numbers1 = np.array([1, 1, 1, 1, 10])\n",
    "\n",
    "# Their mean.\n",
    "np.mean(numbers1)\n"
   ]
  },
  {
   "cell_type": "code",
   "execution_count": 5,
   "id": "b5cf8b4f",
   "metadata": {},
   "outputs": [
    {
     "data": {
      "text/plain": [
       "2.8"
      ]
     },
     "execution_count": 5,
     "metadata": {},
     "output_type": "execute_result"
    }
   ],
   "source": [
    "# A list of numbers - all close to each other.\n",
    "numbers2 = np.array([2, 2, 3, 3, 4])\n",
    "\n",
    "# Their mean.\n",
    "np.mean(numbers2)\n"
   ]
  },
  {
   "cell_type": "code",
   "execution_count": 6,
   "id": "555acc3d",
   "metadata": {},
   "outputs": [
    {
     "data": {
      "text/plain": [
       "3.6"
      ]
     },
     "execution_count": 6,
     "metadata": {},
     "output_type": "execute_result"
    }
   ],
   "source": [
    "numbers1.std()"
   ]
  },
  {
   "cell_type": "code",
   "execution_count": 7,
   "id": "225c99f0",
   "metadata": {},
   "outputs": [
    {
     "data": {
      "text/plain": [
       "0.7483314773547882"
      ]
     },
     "execution_count": 7,
     "metadata": {},
     "output_type": "execute_result"
    }
   ],
   "source": [
    "numbers2.std()"
   ]
  },
  {
   "cell_type": "code",
   "execution_count": null,
   "id": "2b0c3f93",
   "metadata": {},
   "outputs": [],
   "source": []
  }
 ],
 "metadata": {
  "kernelspec": {
   "display_name": "Python 3 (ipykernel)",
   "language": "python",
   "name": "python3"
  },
  "language_info": {
   "codemirror_mode": {
    "name": "ipython",
    "version": 3
   },
   "file_extension": ".py",
   "mimetype": "text/x-python",
   "name": "python",
   "nbconvert_exporter": "python",
   "pygments_lexer": "ipython3",
   "version": "3.9.7"
  }
 },
 "nbformat": 4,
 "nbformat_minor": 5
}
