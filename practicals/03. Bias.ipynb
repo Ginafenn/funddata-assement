{
 "cells": [
  {
   "cell_type": "markdown",
   "id": "5d99b006",
   "metadata": {},
   "source": [
    "# Bias\n",
    "\n",
    "***"
   ]
  },
  {
   "cell_type": "markdown",
   "id": "57994136",
   "metadata": {},
   "source": [
    "## Libraries:\n",
    "\n",
    "***"
   ]
  },
  {
   "cell_type": "code",
   "execution_count": 1,
   "id": "3e0c92e8",
   "metadata": {},
   "outputs": [],
   "source": [
    "# Numerical arrays.\n",
    "import numpy as np\n",
    "\n",
    "# Plots.\n",
    "import matplotlib.pyplot as plt"
   ]
  },
  {
   "cell_type": "markdown",
   "id": "ff54eb9c",
   "metadata": {},
   "source": [
    "### Excerise 1."
   ]
  },
  {
   "cell_type": "markdown",
   "id": "d32e1522",
   "metadata": {},
   "source": [
    "Give three real-world examples of different types of cognitive bias?"
   ]
  },
  {
   "cell_type": "markdown",
   "id": "05737a24",
   "metadata": {},
   "source": [
    "1. Gender Bias - This is where we assign a specific behaviour to a particular gender.\n",
    "\n",
    "   An example of this is where women are percieved to be better care givers than men."
   ]
  },
  {
   "cell_type": "markdown",
   "id": "7dfcda9e",
   "metadata": {},
   "source": [
    "2. In-group Bias - This is where people are more likel to believe someone in their own group rather than an outsider.\n",
    " \n",
    "   An example of this is politics where if you are in a perticular part you tend to support your own party."
   ]
  },
  {
   "cell_type": "markdown",
   "id": "63f0e331",
   "metadata": {},
   "source": [
    "3. Non-Verbal Biases - This is how people walk, body language or eye contact.\n",
    "  \n",
    "   An example of this is an interview process, if a person doesn't make eye contact or has a week handshake we think that person is less skilled.\n"
   ]
  },
  {
   "cell_type": "markdown",
   "id": "56d2e218",
   "metadata": {},
   "source": [
    "### Excerise 2.\n"
   ]
  },
  {
   "cell_type": "markdown",
   "id": "5da5d48f",
   "metadata": {},
   "source": [
    "Show that the difference between the standard deviation calculations is greatest for small sample sizes"
   ]
  },
  {
   "cell_type": "markdown",
   "id": "fea5c757",
   "metadata": {},
   "source": [
    "In practice the correction involves chopping 1 from the sample size which appears in the denominator of the formula for variance / standard deviation. i.e. use n-1 instead of n. Reducing the denominator increases the variance. This makes very little difference for very large samples - e.g. cutting 1 from 1000 reduces the denominator to 999 so no obvious change. For a sample of n=3 though the denominator reduces to 2 will increase the variance by 50%"
   ]
  },
  {
   "cell_type": "code",
   "execution_count": 6,
   "id": "413aa911",
   "metadata": {},
   "outputs": [],
   "source": [
    "# Create 1000 samples of size 10 - standard deviation is 1.0.\n",
    "x = np.random.normal(10.0, 1.0, 1000)\n"
   ]
  },
  {
   "cell_type": "code",
   "execution_count": 7,
   "id": "80e9fc0f",
   "metadata": {},
   "outputs": [
    {
     "data": {
      "text/plain": [
       "1.0506217737217374"
      ]
     },
     "execution_count": 7,
     "metadata": {},
     "output_type": "execute_result"
    }
   ],
   "source": [
    "np.mean(np.square(x - np.mean(x))) * (len(x) / (len(x) - 1.0))"
   ]
  },
  {
   "cell_type": "code",
   "execution_count": 10,
   "id": "e3f7d322",
   "metadata": {},
   "outputs": [],
   "source": [
    "# Create 10 samples of size 1 - standard deviation is 1.0.\n",
    "x = np.random.normal(1.0, 1.0, 10)\n"
   ]
  },
  {
   "cell_type": "code",
   "execution_count": 11,
   "id": "d840ccfb",
   "metadata": {},
   "outputs": [
    {
     "data": {
      "text/plain": [
       "0.911656692772847"
      ]
     },
     "execution_count": 11,
     "metadata": {},
     "output_type": "execute_result"
    }
   ],
   "source": [
    "np.mean(np.square(x - np.mean(x))) * (len(x) / (len(x) - 1.0))"
   ]
  },
  {
   "cell_type": "markdown",
   "id": "6ae14694",
   "metadata": {},
   "source": [
    "### Extra Excerise"
   ]
  },
  {
   "cell_type": "code",
   "execution_count": 4,
   "id": "245198dc",
   "metadata": {},
   "outputs": [
    {
     "data": {
      "text/plain": [
       "2.8"
      ]
     },
     "execution_count": 4,
     "metadata": {},
     "output_type": "execute_result"
    }
   ],
   "source": [
    "# A list of numbers - four small and one big.\n",
    "numbers1 = np.array([1, 1, 1, 1, 10])\n",
    "\n",
    "# Their mean.\n",
    "np.mean(numbers1)\n"
   ]
  },
  {
   "cell_type": "code",
   "execution_count": 5,
   "id": "b5cf8b4f",
   "metadata": {},
   "outputs": [
    {
     "data": {
      "text/plain": [
       "2.8"
      ]
     },
     "execution_count": 5,
     "metadata": {},
     "output_type": "execute_result"
    }
   ],
   "source": [
    "# A list of numbers - all close to each other.\n",
    "numbers2 = np.array([2, 2, 3, 3, 4])\n",
    "\n",
    "# Their mean.\n",
    "np.mean(numbers2)\n"
   ]
  },
  {
   "cell_type": "code",
   "execution_count": 6,
   "id": "555acc3d",
   "metadata": {},
   "outputs": [
    {
     "data": {
      "text/plain": [
       "3.6"
      ]
     },
     "execution_count": 6,
     "metadata": {},
     "output_type": "execute_result"
    }
   ],
   "source": [
    "numbers1.std()"
   ]
  },
  {
   "cell_type": "code",
   "execution_count": 7,
   "id": "225c99f0",
   "metadata": {},
   "outputs": [
    {
     "data": {
      "text/plain": [
       "0.7483314773547882"
      ]
     },
     "execution_count": 7,
     "metadata": {},
     "output_type": "execute_result"
    }
   ],
   "source": [
    "numbers2.std()"
   ]
  },
  {
   "cell_type": "code",
   "execution_count": null,
   "id": "2b0c3f93",
   "metadata": {},
   "outputs": [],
   "source": []
  }
 ],
 "metadata": {
  "kernelspec": {
   "display_name": "Python 3 (ipykernel)",
   "language": "python",
   "name": "python3"
  },
  "language_info": {
   "codemirror_mode": {
    "name": "ipython",
    "version": 3
   },
   "file_extension": ".py",
   "mimetype": "text/x-python",
   "name": "python",
   "nbconvert_exporter": "python",
   "pygments_lexer": "ipython3",
   "version": "3.9.7"
  }
 },
 "nbformat": 4,
 "nbformat_minor": 5
}
