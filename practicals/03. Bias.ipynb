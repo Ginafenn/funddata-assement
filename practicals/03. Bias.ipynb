{
 "cells": [
  {
   "cell_type": "markdown",
   "id": "5d99b006",
   "metadata": {},
   "source": [
    "# Bias"
   ]
  },
  {
   "cell_type": "markdown",
   "id": "ff54eb9c",
   "metadata": {},
   "source": [
    "## Excerise 1."
   ]
  },
  {
   "cell_type": "markdown",
   "id": "d32e1522",
   "metadata": {},
   "source": [
    "Give three real-world examples of different types of cognitive bias?"
   ]
  },
  {
   "cell_type": "code",
   "execution_count": null,
   "id": "4b449ec4",
   "metadata": {},
   "outputs": [],
   "source": []
  },
  {
   "cell_type": "code",
   "execution_count": null,
   "id": "eda14b8a",
   "metadata": {},
   "outputs": [],
   "source": []
  },
  {
   "cell_type": "code",
   "execution_count": null,
   "id": "cab87451",
   "metadata": {},
   "outputs": [],
   "source": []
  }
 ],
 "metadata": {
  "kernelspec": {
   "display_name": "Python 3 (ipykernel)",
   "language": "python",
   "name": "python3"
  },
  "language_info": {
   "codemirror_mode": {
    "name": "ipython",
    "version": 3
   },
   "file_extension": ".py",
   "mimetype": "text/x-python",
   "name": "python",
   "nbconvert_exporter": "python",
   "pygments_lexer": "ipython3",
   "version": "3.9.7"
  }
 },
 "nbformat": 4,
 "nbformat_minor": 5
}
