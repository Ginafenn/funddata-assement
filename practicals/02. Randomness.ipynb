{
 "cells": [
  {
   "cell_type": "markdown",
   "id": "85c8577b",
   "metadata": {},
   "source": [
    "### Coin Flip  \n",
    "\n",
    "  Excerise 1.\n",
    "  \n",
    "  Note that there are the same number of ways to get 4 tails as there to get 4 heads. Explain why this is?\n",
    "  \n"
   ]
  },
  {
   "cell_type": "code",
   "execution_count": 6,
   "id": "79a8e494",
   "metadata": {
    "scrolled": true
   },
   "outputs": [
    {
     "data": {
      "text/plain": [
       "210"
      ]
     },
     "execution_count": 6,
     "metadata": {},
     "output_type": "execute_result"
    }
   ],
   "source": [
    "\n",
    "(10 * 9 * 8 * 7) // (4 * 3 * 2 * 1)\n"
   ]
  },
  {
   "cell_type": "markdown",
   "id": "0e7a9e9d",
   "metadata": {},
   "source": [
    "There is 210 possibilities of getting 4 heads as their is to 4 tails.\n",
    "This is because their are 10 coins that are flipped. This means that the first head can land in any on the flips from 1 - 10. This leaves nine chances for the head to land in the second flip. Eight for the 3rd and 7 for the fourth. Because we are looking for four heads we stop their. This is double counting so we then divide then by the (4 * 3 * 2 * 1) to get rid of the duplicate counts\n"
   ]
  },
  {
   "cell_type": "markdown",
   "id": "ced1b880",
   "metadata": {},
   "source": [
    "Excerise 2.\n",
    "\n",
    "It is somewhat interesting that (5 * 4 * 3 * 2 * 1) perfectly divides (10 * 9 * 8 * 7 * 6) - there's no remainder.\n",
    "If we only wanted exactly four heads as opposed to five, the equivalent calculation would be (10 * 9 * 8 * 7) / (4 * 3 * 2 * 1).\n",
    "Does that evenly divide too? What is the formula in general?\n",
    "Does it always come out as a positive whole number?\n",
    "\n"
   ]
  },
  {
   "cell_type": "code",
   "execution_count": 8,
   "id": "539536d4",
   "metadata": {},
   "outputs": [
    {
     "data": {
      "text/plain": [
       "210"
      ]
     },
     "execution_count": 8,
     "metadata": {},
     "output_type": "execute_result"
    }
   ],
   "source": [
    "(10 * 9 * 8 * 7) // (4 * 3 * 2 * 1)"
   ]
  },
  {
   "cell_type": "markdown",
   "id": "a4cd6033",
   "metadata": {},
   "source": [
    "Yes it divides into it evenly."
   ]
  },
  {
   "cell_type": "code",
   "execution_count": null,
   "id": "261d160d",
   "metadata": {},
   "outputs": [],
   "source": []
  }
 ],
 "metadata": {
  "kernelspec": {
   "display_name": "Python 3 (ipykernel)",
   "language": "python",
   "name": "python3"
  },
  "language_info": {
   "codemirror_mode": {
    "name": "ipython",
    "version": 3
   },
   "file_extension": ".py",
   "mimetype": "text/x-python",
   "name": "python",
   "nbconvert_exporter": "python",
   "pygments_lexer": "ipython3",
   "version": "3.9.7"
  }
 },
 "nbformat": 4,
 "nbformat_minor": 5
}
