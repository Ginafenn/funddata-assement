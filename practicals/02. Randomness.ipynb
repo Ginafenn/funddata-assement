{
 "cells": [
  {
   "cell_type": "markdown",
   "id": "d2262f2b",
   "metadata": {},
   "source": [
    "# Randomness"
   ]
  },
  {
   "cell_type": "markdown",
   "id": "ced1b880",
   "metadata": {},
   "source": [
    "## Excerise 1.\n",
    "\n",
    "It is somewhat interesting that (5 * 4 * 3 * 2 * 1) perfectly divides (10 * 9 * 8 * 7 * 6) - there's no remainder.\n",
    "If we only wanted exactly four heads as opposed to five, the equivalent calculation would be (10 * 9 * 8 * 7) / (4 * 3 * 2 * 1).\n",
    "Does that evenly divide too? What is the formula in general?\n",
    "Does it always come out as a positive whole number?\n",
    "\n"
   ]
  },
  {
   "cell_type": "markdown",
   "id": "a4cd6033",
   "metadata": {},
   "source": [
    "Yes it divides into it evenly. The formula can also be the total possible coin orders for 10 flips / (Total possible coin orders for the 4 heads * Total possible coin orders for the 6 tails). Yes it will always be a positive whole number."
   ]
  },
  {
   "cell_type": "code",
   "execution_count": 6,
   "id": "79a8e494",
   "metadata": {
    "scrolled": true
   },
   "outputs": [
    {
     "data": {
      "text/plain": [
       "210"
      ]
     },
     "execution_count": 6,
     "metadata": {},
     "output_type": "execute_result"
    }
   ],
   "source": [
    "\n",
    "(10 * 9 * 8 * 7) // (4 * 3 * 2 * 1)\n"
   ]
  },
  {
   "cell_type": "code",
   "execution_count": 12,
   "id": "4bb239e9",
   "metadata": {},
   "outputs": [
    {
     "data": {
      "text/plain": [
       "210"
      ]
     },
     "execution_count": 12,
     "metadata": {},
     "output_type": "execute_result"
    }
   ],
   "source": [
    "(10 * 9 * 8 * 7 * 6 * 5 * 4 * 3 * 2 * 1) //((4 * 3 * 2 * 1)*(6 * 5 * 4 * 3 * 2 * 1))"
   ]
  },
  {
   "cell_type": "code",
   "execution_count": 5,
   "id": "261d160d",
   "metadata": {},
   "outputs": [
    {
     "data": {
      "text/plain": [
       "3628800"
      ]
     },
     "execution_count": 5,
     "metadata": {},
     "output_type": "execute_result"
    }
   ],
   "source": [
    "# Total possible orders for 10 flips\n",
    "(10 * 9 * 8 * 7 * 6 * 5 * 4 * 3 * 2 * 1) "
   ]
  },
  {
   "cell_type": "code",
   "execution_count": 6,
   "id": "e39c2dbd",
   "metadata": {},
   "outputs": [
    {
     "data": {
      "text/plain": [
       "17280"
      ]
     },
     "execution_count": 6,
     "metadata": {},
     "output_type": "execute_result"
    }
   ],
   "source": [
    "# Total possible orders for heads * Total possible orders for tails\n",
    "(4 * 3 * 2 * 1)*(6 * 5 * 4 * 3 * 2 * 1)\n"
   ]
  },
  {
   "cell_type": "markdown",
   "id": "85c8577b",
   "metadata": {},
   "source": [
    "\n",
    "  ## Excerise 2.\n",
    "  \n",
    "  Note that there are the same number of ways to get 4 tails as there to get 4 heads. Explain why this is?\n",
    "  "
   ]
  },
  {
   "cell_type": "markdown",
   "id": "0e7a9e9d",
   "metadata": {},
   "source": [
    "To get 4 tails you also have to get 6 heads. To get 4 heads you also have to get 6 tails. So therefore their can only be the same number of ways.\n",
    "\n"
   ]
  },
  {
   "cell_type": "markdown",
   "id": "09efa207",
   "metadata": {},
   "source": [
    "## Excerise 3.\n",
    "\n",
    "Plot bar charts or histograms of any three different distributions listed"
   ]
  },
  {
   "cell_type": "markdown",
   "id": "8c05291e",
   "metadata": {},
   "source": [
    "### 1. Binomial random generator"
   ]
  },
  {
   "cell_type": "code",
   "execution_count": 7,
   "id": "d2cad8a1",
   "metadata": {},
   "outputs": [
    {
     "data": {
      "text/plain": [
       "<AxesSubplot:>"
      ]
     },
     "execution_count": 7,
     "metadata": {},
     "output_type": "execute_result"
    },
    {
     "data": {
      "image/png": "[encoded data removed]",
      "text/plain": [
       "<Figure size 432x288 with 1 Axes>"
      ]
     },
     "metadata": {
      "needs_background": "light"
     },
     "output_type": "display_data"
    }
   ],
   "source": [
    "# Parameters need are N,P,Size\n",
    "\n",
    "# Import required packages\n",
    "import numpy as np\n",
    "\n",
    "import matplotlib.pyplot as plt\n",
    "\n",
    "import seaborn as sns\n",
    "\n",
    "\n",
    "# This creates a seeded random number generator.\n",
    "rng = np.random.default_rng(1000)\n",
    "\n",
    "# Number of coins fliped of a fair coin\n",
    "n, p = 10, .5\n",
    "\n",
    "# What you get if you completed the trail x amount of times\n",
    "\n",
    "s = rng.binomial(n, p, 10000)\n",
    "\n",
    "# Plot results using a historam\n",
    "sns.distplot(s, hist=True, bins = 20, kde = False)\n",
    "\n"
   ]
  },
  {
   "cell_type": "code",
   "execution_count": null,
   "id": "547b2556",
   "metadata": {},
   "outputs": [],
   "source": []
  },
  {
   "cell_type": "markdown",
   "id": "596a409d",
   "metadata": {},
   "source": [
    "### 2. Standard Cauchy random generator"
   ]
  },
  {
   "cell_type": "code",
   "execution_count": 10,
   "id": "1f85eb9c",
   "metadata": {},
   "outputs": [
    {
     "data": {
      "image/png": "[encoded data removed]",
      "text/plain": [
       "<Figure size 432x288 with 1 Axes>"
      ]
     },
     "metadata": {
      "needs_background": "light"
     },
     "output_type": "display_data"
    }
   ],
   "source": [
    "# Import required packages\n",
    "import numpy as np\n",
    "import matplotlib.pyplot as plt\n",
    "\n",
    "# This creates a seeded random number generator.\n",
    "\n",
    "rng = np.random.default_rng(1000)\n",
    "  \n",
    "# Using standard_cauchy method of 100 flips\n",
    "gfg = rng.standard_cauchy(100)\n",
    "  \n",
    "gfg = gfg[(gfg>0) & (gfg<10)]\n",
    "\n",
    "plt.hist(gfg, density = True)\n",
    "plt.show()"
   ]
  },
  {
   "cell_type": "markdown",
   "id": "97cd272e",
   "metadata": {},
   "source": [
    "### 3. Standard Exponential random generator\n"
   ]
  },
  {
   "cell_type": "code",
   "execution_count": 49,
   "id": "60f43fb1",
   "metadata": {},
   "outputs": [
    {
     "data": {
      "image/png": "[encoded data removed]",
      "text/plain": [
       "<Figure size 432x288 with 1 Axes>"
      ]
     },
     "metadata": {
      "needs_background": "light"
     },
     "output_type": "display_data"
    }
   ],
   "source": [
    "# import numpy\n",
    "import numpy as np\n",
    "import matplotlib.pyplot as plt \n",
    "\n",
    "# This creates a seeded random number generator.\n",
    "\n",
    "rng = np.random.default_rng(1000)\n",
    "\n",
    "# Using standard_exponential method using 100 flips\n",
    "gfg = rng.standard_exponential(100)\n",
    "\n",
    "# Plots histogram \n",
    "plt.hist(gfg, bins = 10, density = True)\n",
    "\n",
    "# Plots histogram\n",
    "plt.show()"
   ]
  },
  {
   "cell_type": "code",
   "execution_count": null,
   "id": "8d483013",
   "metadata": {},
   "outputs": [],
   "source": []
  }
 ],
 "metadata": {
  "kernelspec": {
   "display_name": "Python 3 (ipykernel)",
   "language": "python",
   "name": "python3"
  },
  "language_info": {
   "codemirror_mode": {
    "name": "ipython",
    "version": 3
   },
   "file_extension": ".py",
   "mimetype": "text/x-python",
   "name": "python",
   "nbconvert_exporter": "python",
   "pygments_lexer": "ipython3",
   "version": "3.9.7"
  }
 },
 "nbformat": 4,
 "nbformat_minor": 5
}
