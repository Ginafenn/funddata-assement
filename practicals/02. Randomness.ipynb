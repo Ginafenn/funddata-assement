{
 "cells": [
  {
   "cell_type": "markdown",
   "id": "85c8577b",
   "metadata": {},
   "source": [
    "### Coin Flip  \n",
    "\n",
    "  Excerise 1.\n",
    "  \n",
    "  Note that there are the same number of ways to get 4 tails as there to get 4 heads. Explain why this is?\n",
    "  \n"
   ]
  },
  {
   "cell_type": "code",
   "execution_count": 6,
   "id": "79a8e494",
   "metadata": {
    "scrolled": true
   },
   "outputs": [
    {
     "data": {
      "text/plain": [
       "210"
      ]
     },
     "execution_count": 6,
     "metadata": {},
     "output_type": "execute_result"
    }
   ],
   "source": [
    "\n",
    "(10 * 9 * 8 * 7) // (4 * 3 * 2 * 1)\n"
   ]
  },
  {
   "cell_type": "markdown",
   "id": "0e7a9e9d",
   "metadata": {},
   "source": [
    "To get 4 tails you also have to get 6 heads. To get 4 heads you also have to get 6 tails. So therefore their can only be the same number of ways.\n",
    "\n"
   ]
  },
  {
   "cell_type": "markdown",
   "id": "ced1b880",
   "metadata": {},
   "source": [
    "Excerise 2.\n",
    "\n",
    "It is somewhat interesting that (5 * 4 * 3 * 2 * 1) perfectly divides (10 * 9 * 8 * 7 * 6) - there's no remainder.\n",
    "If we only wanted exactly four heads as opposed to five, the equivalent calculation would be (10 * 9 * 8 * 7) / (4 * 3 * 2 * 1).\n",
    "Does that evenly divide too? What is the formula in general?\n",
    "Does it always come out as a positive whole number?\n",
    "\n"
   ]
  },
  {
   "cell_type": "code",
   "execution_count": 8,
   "id": "539536d4",
   "metadata": {},
   "outputs": [
    {
     "data": {
      "text/plain": [
       "210"
      ]
     },
     "execution_count": 8,
     "metadata": {},
     "output_type": "execute_result"
    }
   ],
   "source": [
    "(10 * 9 * 8 * 7) // (4 * 3 * 2 * 1)"
   ]
  },
  {
   "cell_type": "markdown",
   "id": "a4cd6033",
   "metadata": {},
   "source": [
    "Yes it divides into it evenly. The formula can also be the total possible coin orders for 10 flips / (Total possible coin orders for the 4 heads * Total possible coin orders for the 6 tails)."
   ]
  },
  {
   "cell_type": "code",
   "execution_count": 5,
   "id": "261d160d",
   "metadata": {},
   "outputs": [
    {
     "data": {
      "text/plain": [
       "3628800"
      ]
     },
     "execution_count": 5,
     "metadata": {},
     "output_type": "execute_result"
    }
   ],
   "source": [
    "# Total possible orders for 10 flips\n",
    "(10 * 9 * 8 * 7 * 6 * 5 * 4 * 3 * 2 * 1) "
   ]
  },
  {
   "cell_type": "code",
   "execution_count": 6,
   "id": "e39c2dbd",
   "metadata": {},
   "outputs": [
    {
     "data": {
      "text/plain": [
       "17280"
      ]
     },
     "execution_count": 6,
     "metadata": {},
     "output_type": "execute_result"
    }
   ],
   "source": [
    "# Total possible orders for heads * Total possible orders for tails\n",
    "(4 * 3 * 2 * 1)*(6 * 5 * 4 * 3 * 2 * 1)\n"
   ]
  },
  {
   "cell_type": "code",
   "execution_count": 12,
   "id": "4bb239e9",
   "metadata": {},
   "outputs": [
    {
     "data": {
      "text/plain": [
       "210"
      ]
     },
     "execution_count": 12,
     "metadata": {},
     "output_type": "execute_result"
    }
   ],
   "source": [
    "(10 * 9 * 8 * 7 * 6 * 5 * 4 * 3 * 2 * 1) //((4 * 3 * 2 * 1)*(6 * 5 * 4 * 3 * 2 * 1))"
   ]
  }
 ],
 "metadata": {
  "kernelspec": {
   "display_name": "Python 3 (ipykernel)",
   "language": "python",
   "name": "python3"
  },
  "language_info": {
   "codemirror_mode": {
    "name": "ipython",
    "version": 3
   },
   "file_extension": ".py",
   "mimetype": "text/x-python",
   "name": "python",
   "nbconvert_exporter": "python",
   "pygments_lexer": "ipython3",
   "version": "3.9.7"
  }
 },
 "nbformat": 4,
 "nbformat_minor": 5
}
